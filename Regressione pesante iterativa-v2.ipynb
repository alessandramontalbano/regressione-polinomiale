{
 "cells": [
  {
   "cell_type": "markdown",
   "metadata": {},
   "source": [
    "# Esperimento guidovia - Analisi dei dati configurazione pesante"
   ]
  },
  {
   "cell_type": "markdown",
   "metadata": {},
   "source": [
    "Importiamo le librerie necessarie"
   ]
  },
  {
   "cell_type": "code",
   "execution_count": 1,
   "metadata": {},
   "outputs": [],
   "source": [
    "import pandas as pd\n",
    "import numpy as np\n",
    "import matplotlib.pyplot as plt\n",
    "\n",
    "%precision 20\n",
    "np.set_printoptions(suppress=True) #sopprime la notazione scientifica"
   ]
  },
  {
   "cell_type": "markdown",
   "metadata": {},
   "source": [
    "Calcoliamo l'accelerazione teorica con i dati dell'esperimento"
   ]
  },
  {
   "cell_type": "code",
   "execution_count": 2,
   "metadata": {},
   "outputs": [
    {
     "name": "stdout",
     "output_type": "stream",
     "text": [
      "L'accelerazione teorica in questa configurazione è 0.433733 m/s^2 con errore massimo 0.003033 m/s^2\n"
     ]
    }
   ],
   "source": [
    "m=14.3\n",
    "M=309\n",
    "g=9.806\n",
    "\n",
    "acc_teorica = (m/(M+m))*g;\n",
    "delta_acc = (m*g)/(M+m)**2 *0.1 + (M*g)/(M+m)**2*0.1;\n",
    "\n",
    "print(\"L'accelerazione teorica in questa configurazione è %f m/s^2 con errore massimo %f m/s^2\"% (acc_teorica,delta_acc))"
   ]
  },
  {
   "cell_type": "markdown",
   "metadata": {},
   "source": [
    "Adesso guardiamo i dati, che apriamo direttamente da formato csv e su cui lavoreremo usando la libreria pandas. Le posizioni sono in metri e i tempi in secondi"
   ]
  },
  {
   "cell_type": "code",
   "execution_count": 3,
   "metadata": {},
   "outputs": [
    {
     "data": {
      "text/html": [
       "<div>\n",
       "<style scoped>\n",
       "    .dataframe tbody tr th:only-of-type {\n",
       "        vertical-align: middle;\n",
       "    }\n",
       "\n",
       "    .dataframe tbody tr th {\n",
       "        vertical-align: top;\n",
       "    }\n",
       "\n",
       "    .dataframe thead th {\n",
       "        text-align: right;\n",
       "    }\n",
       "</style>\n",
       "<table border=\"1\" class=\"dataframe\">\n",
       "  <thead>\n",
       "    <tr style=\"text-align: right;\">\n",
       "      <th></th>\n",
       "      <th>Posizioni</th>\n",
       "      <th>delta</th>\n",
       "      <th>T1</th>\n",
       "      <th>T2</th>\n",
       "      <th>T3</th>\n",
       "      <th>T4</th>\n",
       "      <th>T5</th>\n",
       "      <th>T6</th>\n",
       "      <th>T7</th>\n",
       "      <th>T8</th>\n",
       "      <th>T9</th>\n",
       "      <th>T10</th>\n",
       "      <th>T11</th>\n",
       "    </tr>\n",
       "  </thead>\n",
       "  <tbody>\n",
       "    <tr>\n",
       "      <th>0</th>\n",
       "      <td>0.6475</td>\n",
       "      <td>0.0005</td>\n",
       "      <td>0.289</td>\n",
       "      <td>0.289</td>\n",
       "      <td>0.289</td>\n",
       "      <td>0.288</td>\n",
       "      <td>0.289</td>\n",
       "      <td>0.289</td>\n",
       "      <td>0.289</td>\n",
       "      <td>0.288</td>\n",
       "      <td>0.289</td>\n",
       "      <td>0.290</td>\n",
       "      <td>0.290</td>\n",
       "    </tr>\n",
       "    <tr>\n",
       "      <th>1</th>\n",
       "      <td>0.6980</td>\n",
       "      <td>0.0005</td>\n",
       "      <td>0.400</td>\n",
       "      <td>0.400</td>\n",
       "      <td>0.400</td>\n",
       "      <td>0.400</td>\n",
       "      <td>0.400</td>\n",
       "      <td>0.399</td>\n",
       "      <td>0.399</td>\n",
       "      <td>0.399</td>\n",
       "      <td>0.399</td>\n",
       "      <td>0.399</td>\n",
       "      <td>0.399</td>\n",
       "    </tr>\n",
       "    <tr>\n",
       "      <th>2</th>\n",
       "      <td>0.7555</td>\n",
       "      <td>0.0005</td>\n",
       "      <td>0.513</td>\n",
       "      <td>0.512</td>\n",
       "      <td>0.514</td>\n",
       "      <td>0.514</td>\n",
       "      <td>0.514</td>\n",
       "      <td>0.515</td>\n",
       "      <td>0.515</td>\n",
       "      <td>0.514</td>\n",
       "      <td>0.513</td>\n",
       "      <td>0.515</td>\n",
       "      <td>0.515</td>\n",
       "    </tr>\n",
       "    <tr>\n",
       "      <th>3</th>\n",
       "      <td>0.8025</td>\n",
       "      <td>0.0005</td>\n",
       "      <td>0.601</td>\n",
       "      <td>0.600</td>\n",
       "      <td>0.601</td>\n",
       "      <td>0.600</td>\n",
       "      <td>0.600</td>\n",
       "      <td>0.600</td>\n",
       "      <td>0.599</td>\n",
       "      <td>0.600</td>\n",
       "      <td>0.601</td>\n",
       "      <td>0.600</td>\n",
       "      <td>0.600</td>\n",
       "    </tr>\n",
       "    <tr>\n",
       "      <th>4</th>\n",
       "      <td>0.8425</td>\n",
       "      <td>0.0005</td>\n",
       "      <td>0.671</td>\n",
       "      <td>0.672</td>\n",
       "      <td>0.671</td>\n",
       "      <td>0.670</td>\n",
       "      <td>0.670</td>\n",
       "      <td>0.670</td>\n",
       "      <td>0.671</td>\n",
       "      <td>0.669</td>\n",
       "      <td>0.670</td>\n",
       "      <td>0.673</td>\n",
       "      <td>0.672</td>\n",
       "    </tr>\n",
       "  </tbody>\n",
       "</table>\n",
       "</div>"
      ],
      "text/plain": [
       "   Posizioni   delta     T1     T2     T3     T4     T5     T6     T7     T8  \\\n",
       "0     0.6475  0.0005  0.289  0.289  0.289  0.288  0.289  0.289  0.289  0.288   \n",
       "1     0.6980  0.0005  0.400  0.400  0.400  0.400  0.400  0.399  0.399  0.399   \n",
       "2     0.7555  0.0005  0.513  0.512  0.514  0.514  0.514  0.515  0.515  0.514   \n",
       "3     0.8025  0.0005  0.601  0.600  0.601  0.600  0.600  0.600  0.599  0.600   \n",
       "4     0.8425  0.0005  0.671  0.672  0.671  0.670  0.670  0.670  0.671  0.669   \n",
       "\n",
       "      T9    T10    T11  \n",
       "0  0.289  0.290  0.290  \n",
       "1  0.399  0.399  0.399  \n",
       "2  0.513  0.515  0.515  \n",
       "3  0.601  0.600  0.600  \n",
       "4  0.670  0.673  0.672  "
      ]
     },
     "execution_count": 3,
     "metadata": {},
     "output_type": "execute_result"
    }
   ],
   "source": [
    "df = pd.read_csv('pesante.csv')\n",
    "pd.set_option('display.max_columns', None)\n",
    "df.head()"
   ]
  },
  {
   "cell_type": "markdown",
   "metadata": {},
   "source": [
    "Adesso ricaviamo dai dati i valori di x e y che utilizzeremo per la regressione, con i rispettivi errori sigma"
   ]
  },
  {
   "cell_type": "code",
   "execution_count": 4,
   "metadata": {},
   "outputs": [],
   "source": [
    "y = df['Posizioni'].values.reshape(-1, 1) # posizioni\n",
    "y_err = (df['delta'].values)/3 # errori sigma sulle posizioni\n",
    "\n",
    "tempi=df.drop(['Posizioni','delta'], axis=1).values # tabella dei tempi da utilizzare per il calcolo delle x\n",
    "\n",
    "x = tempi.mean(axis=1).reshape(-1, 1) #tmedio\n",
    "x_err = np.array(tempi.std(axis=1,ddof = 1) + 0.001/3, dtype=np.float64) #errori sigma del tmedio"
   ]
  },
  {
   "cell_type": "code",
   "execution_count": 5,
   "metadata": {},
   "outputs": [
    {
     "data": {
      "image/png": "[encoded data removed]",
      "text/plain": [
       "<Figure size 1080x432 with 1 Axes>"
      ]
     },
     "metadata": {
      "needs_background": "light"
     },
     "output_type": "display_data"
    }
   ],
   "source": [
    "fig = plt.figure(figsize=(15, 6))\n",
    "plt.xlabel('T medio (s)')\n",
    "plt.ylabel('Posizioni fotocellule (m)')\n",
    "plt.scatter(x, y)\n",
    "plt.title('Grafico dei dati - configurazione pesante')\n",
    "plt.errorbar(x,y,xerr=x_err,yerr=y_err,linestyle=\"None\")\n",
    "plt.show() "
   ]
  },
  {
   "cell_type": "markdown",
   "metadata": {},
   "source": [
    "Plottiamo i dati con i rispettivi errori, che però non riusciamo a visualizzare perché molto piccoli"
   ]
  },
  {
   "cell_type": "markdown",
   "metadata": {},
   "source": [
    "## Funzioni varie"
   ]
  },
  {
   "cell_type": "code",
   "execution_count": 6,
   "metadata": {},
   "outputs": [],
   "source": [
    "#dà il minimo e la posizione di questo all'interno di un'array\n",
    "def val_minimo(x):\n",
    "    minimo = x[0];\n",
    "    for i in range(1,len(x)):\n",
    "        if x[i] < minimo:\n",
    "            minimo = x[i];\n",
    "            pos = i;\n",
    "    return minimo, pos;"
   ]
  },
  {
   "cell_type": "code",
   "execution_count": 7,
   "metadata": {},
   "outputs": [],
   "source": [
    "def find_value(x,N,pos):\n",
    "    pos_1 = 0\n",
    "    valore_1 = 0\n",
    "    for i in range(1,len(x)):\n",
    "        if (x[i] - (N+1))**2 <0.0000015:\n",
    "            valore_1 = x[i]\n",
    "            pos_1 = i;\n",
    "            break;\n",
    "    \n",
    "    pos_2 = 2*(pos - pos_1) + pos_1;\n",
    "    valore_2 = x[pos_2]\n",
    "    return pos_1,pos_2;"
   ]
  },
  {
   "cell_type": "code",
   "execution_count": 8,
   "metadata": {},
   "outputs": [],
   "source": [
    "def regressione(x,y, weights = np.ones(len(x)), grafico = True,C = None):\n",
    "    \n",
    "    sumx1 = sumy1 = sumxy = sumx2 = sumx3 = sumx4 = sumx2y = delta = delta1 = delta2 = delta3 = delta4 = 0;\n",
    "    M = 0;\n",
    "    \n",
    "    for i in range(len(x)):\n",
    "        M += weights[i];\n",
    "        sumx1 += weights[i]*x[i];\n",
    "        sumy1 += weights[i]*y[i];\n",
    "        sumxy += weights[i]*x[i]*y[i];\n",
    "        sumx2 += weights[i]*x[i]**2;\n",
    "        sumx3 += weights[i]*x[i]**3;\n",
    "        sumx4 += weights[i]*x[i]**4;\n",
    "        sumx2y += weights[i]*x[i]**2*y[i];\n",
    "    if (C == None):\n",
    "        delta = M* sumx2* sumx4 + sumx1* sumx3 *sumx2 + sumx2* sumx1*sumx3 - (sumx2**3) - M*sumx3**2 -  sumx4*(sumx1**2);\n",
    "        delta1 = sumy1* sumx2* sumx4 + sumx1* sumx3 *sumx2y + sumx2* sumxy*sumx3 - sumx2y*(sumx2**2) - (sumx3**2)*sumy1 - sumx4*sumx1*sumxy;\n",
    "        delta2 = M* sumxy* sumx4 + sumy1* sumx3 *sumx2 + sumx2* sumx1*sumx2y - (sumx2**2)*sumxy - sumx2y*sumx3*M -  sumx4*sumy1*sumx1;\n",
    "        delta3 = M* sumx2* sumx2y + sumx1* sumxy *sumx2 + sumy1* sumx1*sumx3 - (sumx2**2)*sumy1 - sumx3*sumxy*M -  sumx2y*(sumx1**2);\n",
    "    \n",
    "        A = delta1/delta;\n",
    "        B = delta2/delta;\n",
    "        C = delta3/delta;\n",
    "\n",
    "        #print(delta, delta1,delta2,delta3)\n",
    "    \n",
    "    else:\n",
    "        delta=(M*sumx2)-(sumx1*sumx1)\n",
    "        A = (sumx2*(sumy1-C*sumx2)-(sumxy-C*sumx3)*sumx1)/delta;\n",
    "        B = (M*(sumxy-C*sumx3)-(sumx1*(sumy1-C*sumx2)))/delta;\n",
    "\n",
    "        \n",
    "    sigma_A = np.sqrt(((sumx2*sumx4) - (sumx3)**2)/(M* sumx2* sumx4 + sumx1* sumx3 *sumx2 + sumx2* sumx1*sumx3 - (sumx2**3) - M*sumx3**2 -  sumx4*(sumx1**2)));\n",
    "    sigma_B = np.sqrt(((M*sumx4) - (sumx2)**2)/(M* sumx2* sumx4 + sumx1* sumx3 *sumx2 + sumx2* sumx1*sumx3 - (sumx2**3) - M*sumx3**2 -  sumx4*(sumx1**2)));\n",
    "    sigma_C = np.sqrt(((M*sumx2) - (sumx1)**2)/(M* sumx2* sumx4 + sumx1* sumx3 *sumx2 + sumx2* sumx1*sumx3 - (sumx2**3) - M*sumx3**2 -  sumx4*(sumx1**2)));\n",
    "    \n",
    "    \n",
    "    #grafico della regressione\n",
    "    \n",
    "    if grafico == True:\n",
    "        \n",
    "        X_fit = np.arange(0,1.7,0.001).reshape(-1, 1)\n",
    "        Y_fit = np.zeros(len(X_fit))\n",
    "        for i in range(len(X_fit)):\n",
    "            Y_fit[i] = A + B*X_fit[i] + C*X_fit[i]**2\n",
    "    \n",
    "        fig = plt.figure(figsize=(15, 6))\n",
    "        plt.scatter(x, y)\n",
    "        plt.plot(X_fit, Y_fit)\n",
    "        plt.xlabel('T medio (s)')\n",
    "        plt.ylabel('Posizioni fotocellule (m)')\n",
    "        plt.title('Regressione')\n",
    "        plt.show()\n",
    "        \n",
    "    \n",
    "    return A,B, C,sigma_A, sigma_B, sigma_C;"
   ]
  },
  {
   "cell_type": "code",
   "execution_count": 9,
   "metadata": {},
   "outputs": [],
   "source": [
    "def chiquadro(x,y, y_err,A,B,C):\n",
    "    \n",
    "    chisquare = 0;\n",
    "    for i in range(16):\n",
    "        chisquare +=  (y[i]-A -B*x[i]-C*x[i]**2)**2/y_err[i]**2\n",
    "\n",
    "    return chisquare;"
   ]
  },
  {
   "cell_type": "code",
   "execution_count": 10,
   "metadata": {},
   "outputs": [],
   "source": [
    "def residui(x,y, y_err,A,B,C,grafico = True):  \n",
    "    \n",
    "    residui_tot = np.zeros(16, dtype = np.float64);\n",
    "    for i in range(16):\n",
    "        residui_tot[i] = y[i] - (A + B*x[i]+C*x[i]**2)\n",
    "        \n",
    "    if grafico == True:\n",
    "        fig = plt.figure(figsize = (15, 6))\n",
    "\n",
    "        plt.scatter(x,residui_tot)\n",
    "        plt.errorbar(x,residui_tot,y_err, linestyle = \"None\")\n",
    "\n",
    "        plt.xlabel('T medio (s)')\n",
    "        plt.ylabel('Residui')\n",
    "        plt.title('Grafico dei residui')\n",
    "        plt.show()\n",
    "    \n",
    "    \n",
    "    return residui_tot;"
   ]
  },
  {
   "cell_type": "code",
   "execution_count": 11,
   "metadata": {},
   "outputs": [],
   "source": [
    "def errori(B,C,x_err,y_err):\n",
    "    pesi = np.zeros(16, dtype = np.float64)\n",
    "    y_err_tot = np.zeros(16, dtype = np.float64)\n",
    "    for i in range(16):\n",
    "        y_err_tot[i] = np.sqrt(y_err[i]**2+((B+2*C*x[i])**2)*x_err[i]**2);\n",
    "        pesi[i] = 1/(y_err_tot[i]**2)\n",
    "    return y_err_tot, pesi;"
   ]
  },
  {
   "cell_type": "code",
   "execution_count": 12,
   "metadata": {},
   "outputs": [],
   "source": [
    "def regressione_iterativa_c(N,x,y,B,C_min, C_max,y_finali,passo, y_err,x_err):\n",
    "\n",
    "    chi_quadrato_opt = np.zeros(N, dtype = np.float64);\n",
    "    C_passi = np.arange(C_min,C_max,passo, dtype = np.float64)\n",
    "    lista_A = np.zeros(N, dtype = np.float64)\n",
    "    lista_B = np.zeros(N, dtype = np.float64)\n",
    "    lista_sigma_A = np.zeros(N, dtype = np.float64)\n",
    "    lista_sigma_B = np.zeros(N, dtype = np.float64)\n",
    "    lista_sigma_C = np.zeros(N, dtype = np.float64) \n",
    "    B_old = B;\n",
    "    for count in range(N):\n",
    "        y_err_tot, pesi = errori(B_old,C_passi[count],x_err,y_err)\n",
    "        A_new,B_new,C,sigma_A, sigma_B, sigma_C = regressione(x,y,pesi,grafico = False,C = C_passi[count]);\n",
    "        residui_new = residui(x,y, y_err_tot,A_new,B_new,C_passi[count],grafico = False);\n",
    "        \n",
    "        chisquare_new = chiquadro(x,y,y_err_tot, A_new,B_new,C_passi[count]);\n",
    "        chi_quadrato_opt[count] = chisquare_new;\n",
    "        lista_A[count] = A_new;\n",
    "        lista_B[count] = B_new;\n",
    "        \n",
    "        lista_sigma_A[count] = sigma_A;\n",
    "        lista_sigma_B[count] = sigma_B;\n",
    "        lista_sigma_C[count] = sigma_C;\n",
    "        #print('I coefficienti della %d iterazione sono, A: %.10f, B: %.10f C: %.10f, con chi quadro %.10f e chi quadro ridotto %.10f' %(count, lista_A[count],lista_B[count],C_passi[count], chisquare_new, chisquare_new/13));\n",
    "        #print(residui_new)\n",
    "        B_old = B_new;\n",
    "    \n",
    "    minimo,pos = val_minimo(chi_quadrato_opt);\n",
    "    \n",
    "    \n",
    "    #Grafico del chiquadro\n",
    "    fig = plt.figure(figsize = (15, 6))\n",
    "    x_retta = (C_min,C_max)\n",
    "    y_retta = (minimo + 1,minimo + 1)\n",
    "    plt.plot(C_passi,chi_quadrato_opt)\n",
    "    plt.plot(x_retta, y_retta)\n",
    "\n",
    "    plt.xlabel('C passi')\n",
    "    plt.ylabel('Chi quadro')\n",
    "    plt.title('Grafico dei chi quadro')\n",
    "    \n",
    "    plt.xticks(np.arange(C_min, C_max,step = passo*1000))\n",
    "    plt.yticks(np.arange(int(chi_quadrato_opt.min()), int(chi_quadrato_opt.max()), step = 0.1))\n",
    "    plt.show()\n",
    "\n",
    "    \n",
    "    \n",
    "    pos_1,pos_2 = find_value(chi_quadrato_opt, minimo,pos)\n",
    "    sigma_v3=(C_passi[pos_2]- C_passi[pos_1])/2\n",
    "    \n",
    "    A_new,B_new,C,sigma_A, sigma_B, sigma_C = regressione(x,y,pesi,grafico = True,C = C_passi[pos]);\n",
    "    print(\"il valore minimo del chi quadrato si trova all'iter. %d ed è %.10f a cui corrisponde un C best %.10f, sigma C (calcolato) %.10f e corrispondenti A %.10f con sigma A %.10f e B %.10f con sigma B %.10f\"% (pos,minimo,C_passi[pos], sigma_C,lista_A[pos],lista_sigma_A[pos],  lista_B[pos],lista_sigma_B[pos] ))\n",
    "\n",
    "    print(\"il valore minimo di C sarà %.10f %.10f, il sigma C (heuristic) invece %.10f\" % (C_passi[pos_1], C_passi[pos_2], sigma_v3))\n",
    "        \n",
    "    y_err_tot, pesi = errori(lista_B[pos],C_passi[pos],x_err,y_err)\n",
    "    residui_new = residui(x,y, y_err_tot,lista_A[pos],lista_B[pos],C_passi[pos],grafico = True)\n",
    "    \n",
    "    return lista_A[pos], lista_B[pos],C_passi[pos], lista_sigma_A[pos], lista_sigma_B[pos], sigma_C,y_finali,chi_quadrato_opt[pos],sigma_v3;"
   ]
  },
  {
   "cell_type": "markdown",
   "metadata": {},
   "source": [
    "## Regressioni"
   ]
  },
  {
   "cell_type": "markdown",
   "metadata": {},
   "source": [
    "### 1 regressione, ci serve per calcolare valori iniziali A B e C\n"
   ]
  },
  {
   "cell_type": "code",
   "execution_count": 13,
   "metadata": {},
   "outputs": [
    {
     "data": {
      "image/png": "[encoded data removed]",
      "text/plain": [
       "<Figure size 1080x432 with 1 Axes>"
      ]
     },
     "metadata": {
      "needs_background": "light"
     },
     "output_type": "display_data"
    },
    {
     "data": {
      "image/png": "[encoded data removed]",
      "text/plain": [
       "<Figure size 1080x432 with 1 Axes>"
      ]
     },
     "metadata": {
      "needs_background": "light"
     },
     "output_type": "display_data"
    },
    {
     "name": "stdout",
     "output_type": "stream",
     "text": [
      "I primi coefficienti sono, A: 0.5388512945, B: 0.3180744640 C: 0.2011509321, con chi quadro 119.4114461957 e chi quadro ridotto 9.1854958612\n"
     ]
    }
   ],
   "source": [
    "A,B,C, sigma_A, sigma_B, sigma_C = regressione(x,y)\n",
    "\n",
    "chisquare = chiquadro(x,y, y_err,A,B,C)\n",
    "residui_tot = residui(x,y, y_err,A,B,C)\n",
    "y_err_tot, pesi = errori(B,C,x_err,y_err)\n",
    "print('I primi coefficienti sono, A: %.10f, B: %.10f C: %.10f, con chi quadro %.10f e chi quadro ridotto %.10f' %(A,B,C, chisquare, chisquare/13))"
   ]
  },
  {
   "cell_type": "markdown",
   "metadata": {},
   "source": [
    "### 2 regressione, ci serve per calcolare C_min e C_max"
   ]
  },
  {
   "cell_type": "code",
   "execution_count": 14,
   "metadata": {},
   "outputs": [],
   "source": [
    "A,B,C, sigma_A, sigma_B, sigma_C = regressione(x,y,weights = pesi,grafico = False)\n",
    "y_err_tot, pesi = errori(B,C,x_err,y_err)"
   ]
  },
  {
   "cell_type": "code",
   "execution_count": 15,
   "metadata": {},
   "outputs": [],
   "source": [
    "N = 10000\n",
    "C_min = C - 1.5*sigma_C; #valore di C_min trovato precedentemente\n",
    "passo = (3*sigma_C)/N\n",
    "C_max = C + 1.5*sigma_C-0.0000001;"
   ]
  },
  {
   "cell_type": "code",
   "execution_count": 16,
   "metadata": {},
   "outputs": [
    {
     "data": {
      "image/png": "[encoded data removed]",
      "text/plain": [
       "<Figure size 1080x432 with 1 Axes>"
      ]
     },
     "metadata": {
      "needs_background": "light"
     },
     "output_type": "display_data"
    },
    {
     "data": {
      "image/png": "[encoded data removed]",
      "text/plain": [
       "<Figure size 1080x432 with 1 Axes>"
      ]
     },
     "metadata": {
      "needs_background": "light"
     },
     "output_type": "display_data"
    },
    {
     "name": "stdout",
     "output_type": "stream",
     "text": [
      "il valore minimo del chi quadrato si trova all'iter. 5010 ed è 2.2860689930 a cui corrisponde un C best 0.2008881575, sigma C (calcolato) 0.0019489185 e corrispondenti A 0.5386889369 con sigma A 0.0010228914 e B 0.3185719164 con sigma B 0.0030606285\n",
      "il valore minimo di C sarà 0.1989398206 0.2028364944, il sigma C (heuristic) invece 0.0019483369\n"
     ]
    },
    {
     "data": {
      "image/png": "[encoded data removed]",
      "text/plain": [
       "<Figure size 1080x432 with 1 Axes>"
      ]
     },
     "metadata": {
      "needs_background": "light"
     },
     "output_type": "display_data"
    }
   ],
   "source": [
    "A,B,C_best, sigma_A,sigma_B, sigma_C_best, y_finali,chiq, sigma_v3 = regressione_iterativa_c(N,x,y,B,C_min,C_max,y_err_tot, passo,y_err,x_err);"
   ]
  },
  {
   "cell_type": "markdown",
   "metadata": {},
   "source": [
    "Il sigma calcolato ci dà comunque il sigma C minore, quindi terremo quello"
   ]
  },
  {
   "cell_type": "code",
   "execution_count": 17,
   "metadata": {},
   "outputs": [
    {
     "name": "stdout",
     "output_type": "stream",
     "text": [
      "chiquadrato ridotto: 0.17585146100376678\n"
     ]
    },
    {
     "data": {
      "text/plain": [
       "0.00000002929136406788"
      ]
     },
     "execution_count": 17,
     "metadata": {},
     "output_type": "execute_result"
    }
   ],
   "source": [
    "print(\"chiquadrato ridotto:\", chiq/13)\n",
    "(1.3292073450-2.3290361978+1)**2"
   ]
  },
  {
   "cell_type": "markdown",
   "metadata": {},
   "source": [
    "In pratica noi ipotizziamo che i nostri dati sono descritti correttamente dalla funzione $A+Bx+Cx^2$, e con il chi quadro testiamo quanto probabile è questa nostra ipotesi. Un valore di $\\tilde{\\chi}^2 \\approx 1$ (cioè il valore atteso della distribuzione $\\tilde{\\chi}^2$) sarebbe ideale. "
   ]
  },
  {
   "cell_type": "markdown",
   "metadata": {},
   "source": [
    "La probabiità di ottenere un valore di chi quadro ridotto maggiore o uguale a 0.18 in un esperimento con 13 gradi di libertà, cioè la $P_{dof}(\\tilde{\\chi}^2 \\geq 0.18) \\approx 99\\%$, con l'ipotesi nulla che l'adattamento funzionale è corretto (cioè che i coefficienti spiegano con buona aprossimazione i dati), che è abbastanza grande da poter pensare che l'ipotesi sia corretta."
   ]
  },
  {
   "cell_type": "markdown",
   "metadata": {},
   "source": [
    "In effetti osserviamo che i residui sono molto molto piccoli rispetto all'errore totale su y, questo ci fa pensare che sia naturale che il chi-quadro venga più piccolo di uno, e che non potrebbe non essere solo un problema di sovrastima degli errori, che sono comunque dello stesso ordine di grandezza della configurazione leggera, ma piuttosto che i dati spiegano perfettamente il modello. Dato che non abbiamo raccolto noi i dati, non possiamo sapere nulla del procedimento di misurazione con qui sono stati presi, ma abbiamo forti sospetti che i dati siano stati \"corretti\"."
   ]
  },
  {
   "cell_type": "markdown",
   "metadata": {},
   "source": [
    "## Errori con la radice quadrata del chi quadro ridotto"
   ]
  },
  {
   "cell_type": "markdown",
   "metadata": {},
   "source": [
    "Per ottenere stime migliori dei coefficienti A, B e C possiamo moltiplicare gli errori per una quantità uguale a $\\sqrt{\\tilde{\\chi_{0}}^2}$ così da ridurli. Otterremo così un $\\tilde{\\chi}_{0}^2 \\approx 1$"
   ]
  },
  {
   "cell_type": "code",
   "execution_count": 18,
   "metadata": {},
   "outputs": [],
   "source": [
    "y_err_fin = np.zeros(16);\n",
    "pesi_fin = np.zeros(16);\n",
    "for i in range(16):\n",
    "    y_err_fin[i] = y_err_tot[i]*np.sqrt(chiq/13)\n",
    "    pesi_fin[i] = 1/y_err_fin[i]**2"
   ]
  },
  {
   "cell_type": "code",
   "execution_count": 19,
   "metadata": {},
   "outputs": [
    {
     "data": {
      "image/png": "[encoded data removed]",
      "text/plain": [
       "<Figure size 1080x432 with 1 Axes>"
      ]
     },
     "metadata": {
      "needs_background": "light"
     },
     "output_type": "display_data"
    }
   ],
   "source": [
    "A_rid,B_rid,C_rid, sigma_A_rid, sigma_B_rid, sigma_C_rid= regressione(x,y,pesi_fin);"
   ]
  },
  {
   "cell_type": "code",
   "execution_count": 20,
   "metadata": {},
   "outputs": [
    {
     "data": {
      "image/png": "[encoded data removed]",
      "text/plain": [
       "<Figure size 1080x432 with 1 Axes>"
      ]
     },
     "metadata": {
      "needs_background": "light"
     },
     "output_type": "display_data"
    }
   ],
   "source": [
    "residui_fin=residui(x,y, y_err_fin,A,B,C)\n",
    "#print(\"residui:\", residui_fin)\n",
    "#print(\"errore totale su y:\", y_err_fin)"
   ]
  },
  {
   "cell_type": "code",
   "execution_count": 21,
   "metadata": {},
   "outputs": [
    {
     "name": "stdout",
     "output_type": "stream",
     "text": [
      "I coefficienti della iterazione sono, A: 0.538686, B: 0.318581 C: 0.200883, con errori sigma A: 0.000429 sigma B 0.001283 sigma C 0.000817 e chi quadro 13.002515 e chi quadro ridotto 1.000193\n"
     ]
    }
   ],
   "source": [
    "chisquare_fin=chiquadro(x,y, y_err_fin,A,B,C)\n",
    "print('I coefficienti della iterazione sono, A: %f, B: %f C: %f, con errori sigma A: %f sigma B %f sigma C %f e chi quadro %f e chi quadro ridotto %f' %(A_rid,B_rid,C_rid,sigma_A_rid, sigma_B_rid, sigma_C_rid, chisquare_fin, chisquare_fin/13))"
   ]
  },
  {
   "cell_type": "markdown",
   "metadata": {},
   "source": [
    "Come possiamo vedere il chiquadro ridotto è migliorato. Infatto adesso, la probabiità di ottenere un valore di chi quadro ridotto maggiore o uguale a \\approx 1 in un esperimento con 13 gradi di libertà, è $P_{dof}(\\tilde{\\chi}^2 \\geq 1) \\approx 45\\%$."
   ]
  },
  {
   "cell_type": "markdown",
   "metadata": {},
   "source": [
    "Ciò però è causato dal fatto che abbiamo reso più piccolo l'errore totale su y, e otteniamo un chi quadro perfetto ma ha senso farlo visto che ora le barre d'errore non passano nemmeno per lo zero?"
   ]
  },
  {
   "cell_type": "markdown",
   "metadata": {},
   "source": [
    "## Conclusioni"
   ]
  },
  {
   "cell_type": "markdown",
   "metadata": {},
   "source": [
    "Confrontiamo i due risultati (sperimentale e teorico), riportando tutti gli errori a un livello di confidenza del 100\\%"
   ]
  },
  {
   "cell_type": "code",
   "execution_count": 22,
   "metadata": {},
   "outputs": [],
   "source": [
    "sigma_C_prop = 2*sigma_C*3 #regressione pesata\n",
    "sigma_C_prop_2 = 2*sigma_C_rid*3 #regressione con errori totali finali pesati per radice quadrato di chi ridotto\n",
    "sigma_C_prop_3 = 2*sigma_v3*3 #sigma c ottenuto con metodo minimizzazione chiquadro"
   ]
  },
  {
   "cell_type": "code",
   "execution_count": 23,
   "metadata": {},
   "outputs": [
    {
     "name": "stdout",
     "output_type": "stream",
     "text": [
      "accelerazione sperimentale, calcolata col 1 metodo: 0.401765 +- 0.011691\n",
      "accelerazione sperimentale, calcolata col 2 metodo: 0.401765 +- 0.004903 errore relativo: 0.012204\n",
      "accelerazione sperimentale, calcolata col 3 metodo: 0.401765 +- 0.011690 \n"
     ]
    }
   ],
   "source": [
    "print('accelerazione sperimentale, calcolata col 1 metodo: %f +- %f' %(2*C,sigma_C_prop)) \n",
    "print('accelerazione sperimentale, calcolata col 2 metodo: %f +- %f errore relativo: %f' %(2*C_rid,sigma_C_prop_2, sigma_C_prop_2/(2*C_rid))) \n",
    "print('accelerazione sperimentale, calcolata col 3 metodo: %f +- %f ' %(2*C,sigma_C_prop_3)) "
   ]
  },
  {
   "cell_type": "code",
   "execution_count": 24,
   "metadata": {},
   "outputs": [
    {
     "name": "stdout",
     "output_type": "stream",
     "text": [
      "accelerazione teorica: 0.433733 +- 0.003033 m/s^2\n"
     ]
    }
   ],
   "source": [
    "print('accelerazione teorica: %f +- %f m/s^2'% (acc_teorica, delta_acc));"
   ]
  },
  {
   "cell_type": "code",
   "execution_count": 78,
   "metadata": {},
   "outputs": [
    {
     "data": {
      "image/png": "[encoded data removed]",
      "text/plain": [
       "<Figure size 576x432 with 1 Axes>"
      ]
     },
     "metadata": {
      "needs_background": "light"
     },
     "output_type": "display_data"
    },
    {
     "name": "stdout",
     "output_type": "stream",
     "text": [
      "[0.03196768539032607] [0.005403245026677987] [0.007173236998833602]\n"
     ]
    }
   ],
   "source": [
    "x = np.array([1,2], dtype=int)\n",
    "y = np.array([acc_teorica,2*C_rid], dtype = float)\n",
    "fig = plt.figure(figsize=(8, 6))\n",
    "plt.scatter(x,y)\n",
    "plt.xticks([1,2])\n",
    "\n",
    "erorr= np.array([float(delta_acc),float(sigma_C_prop_2)], dtype = float)\n",
    "plt.title('Discrepanza tra accelerazione teorica e accelerazione sperimentale - pesante')\n",
    "plt.errorbar(x,y,yerr=erorr,linestyle=\"None\")\n",
    "\n",
    "plt.show() \n",
    "\n",
    "discrepanza = abs(acc_teorica -2*C_rid)\n",
    "discr_err = np.sqrt((delta_acc)**2 + (sigma_C_prop_2)**2)\n",
    "discr_err_2 = delta_acc + sigma_C_prop_2\n",
    "print(discrepanza, discr_err, discr_err_2)\n",
    "#discr_err vale 3 sigma perché errore massimo, quindi l'intervallo "
   ]
  },
  {
   "cell_type": "markdown",
   "metadata": {},
   "source": [
    "Conclusione: la discrepanza è maggiore della somma in quadratura degli errori massimi associati alle due misure dell'accelerazione, ma è comunque un buon risultato."
   ]
  },
  {
   "cell_type": "markdown",
   "metadata": {},
   "source": [
    "Calcoliamo il coefficiente di attrito"
   ]
  },
  {
   "cell_type": "code",
   "execution_count": 44,
   "metadata": {},
   "outputs": [
    {
     "name": "stdout",
     "output_type": "stream",
     "text": [
      "coefficiente di attrito: 0.003411 +- 0.000516 m/s^2\n"
     ]
    }
   ],
   "source": [
    "#1\n",
    "coeff_attrito= (-(2*C)*(M+m) +m*g)/(M*g)\n",
    "\n",
    "#errore al 100% di confidenza\n",
    "eps_tot = abs(((g-2*C)/(M)*g)*0.1)+abs((((2*C-g)*(m))/(M)**2*g)*0.1)+abs((-((M+m))/(M)*g)*sigma_C_prop) #propagazione\n",
    "\n",
    "delta_att= abs(eps_tot*coeff_attrito)\n",
    "print('coefficiente di attrito: %f +- %f m/s^2'% (coeff_attrito,delta_att))\n"
   ]
  },
  {
   "cell_type": "code",
   "execution_count": 45,
   "metadata": {},
   "outputs": [
    {
     "name": "stdout",
     "output_type": "stream",
     "text": [
      "coefficiente di attrito: 0.003411 +- 0.000516 m/s^2\n"
     ]
    }
   ],
   "source": [
    "#3\n",
    "coeff_attrito= (-(2*C)*(M+m) +m*g)/(M*g)\n",
    "\n",
    "\n",
    "#errore al 100% di confidenza\n",
    "eps_tot1 = abs(((g-2*C)/(M)*g)*0.1)+abs((((2*C-g)*(m))/(M)**2*g)*0.1)+abs((-((M+m))/(M)*g)*sigma_C_prop_3) #propagazione\n",
    "\n",
    "delta_att1= abs(eps_tot1*coeff_attrito)\n",
    "print('coefficiente di attrito: %f +- %f m/s^2'% (coeff_attrito,delta_att1))\n"
   ]
  },
  {
   "cell_type": "code",
   "execution_count": 84,
   "metadata": {},
   "outputs": [
    {
     "name": "stdout",
     "output_type": "stream",
     "text": [
      "coefficiente di attrito: 0.003411 +- 0.000278 m/s^2\n"
     ]
    },
    {
     "data": {
      "text/plain": [
       "array([0.0815322024997203])"
      ]
     },
     "execution_count": 84,
     "metadata": {},
     "output_type": "execute_result"
    }
   ],
   "source": [
    "#2\n",
    "coeff_attrito= (-(2*C)*(M+m) +m*g)/(M*g)\n",
    "\n",
    "#errore al 100% di confidenza\n",
    "eps_tot = abs(((g-2*C)/(M)*g)*0.1)+abs((((2*C-g)*(m))/(M)**2*g)*0.1)+abs((-((M+m))/(M)*g)*sigma_C_prop_2) #propagazione\n",
    "\n",
    "delta_att= abs(eps_tot*coeff_attrito)\n",
    "print('coefficiente di attrito: %f +- %f m/s^2'% (coeff_attrito,delta_att))\n",
    "delta_att/coeff_attrito"
   ]
  },
  {
   "cell_type": "code",
   "execution_count": 47,
   "metadata": {},
   "outputs": [
    {
     "name": "stdout",
     "output_type": "stream",
     "text": [
      "accelerazione teorica finale: 0.401765 +- 0.002270 m/s^2\n"
     ]
    }
   ],
   "source": [
    "a_finale_teorica = (m*g- M*g*coeff_attrito)/(M+m)\n",
    "#errore al 100% di confidenza\n",
    "eps_tot_a_teorica = abs(((M*g*(1+coeff_attrito))/((M+m)**2))*0.1)+abs((((m*g*(1+coeff_attrito))/((M+m)**2))*0.1)+abs(-(M*g)/(M+m))*delta_att) #propagazione\n",
    "\n",
    "delta_acc = abs(eps_tot_a_teorica*a_finale_teorica)\n",
    "a_finale_teorica\n",
    "\n",
    "print('accelerazione teorica finale: %f +- %f m/s^2'% (a_finale_teorica,delta_acc))\n"
   ]
  },
  {
   "cell_type": "code",
   "execution_count": 31,
   "metadata": {},
   "outputs": [],
   "source": [
    "errore_relativo_att= delta_att/coeff_attrito;"
   ]
  },
  {
   "cell_type": "code",
   "execution_count": 79,
   "metadata": {},
   "outputs": [],
   "source": [
    "attrito_leggera = 0.005182\n",
    "attrito_pesante = 0.003411\n",
    "attrito_pesantepesante = 0.003974\n",
    "\n",
    "err_l = 0.001092 \n",
    "err_p = 0.000278 \n",
    "err_pp = 0.000396 \n",
    "\n",
    "attr = [attrito_leggera,attrito_pesante,attrito_pesantepesante]\n",
    "err_att_lista = [err_l,err_p, err_pp]"
   ]
  },
  {
   "cell_type": "code",
   "execution_count": 83,
   "metadata": {},
   "outputs": [
    {
     "data": {
      "image/png": "[encoded data removed]",
      "text/plain": [
       "<Figure size 576x432 with 1 Axes>"
      ]
     },
     "metadata": {
      "needs_background": "light"
     },
     "output_type": "display_data"
    }
   ],
   "source": [
    "x = np.array([1,2,3], dtype =int)\n",
    "fig = plt.figure(figsize=(8, 6))\n",
    "plt.scatter(x,attr)\n",
    "plt.xticks([1,2,3])\n",
    "\n",
    "plt.title('Discrepanza tra i coefficienti di attrito nelle varie configurazioni')\n",
    "plt.errorbar(x,attr,yerr=err_att_lista,linestyle=\"None\")\n",
    "plt.show() "
   ]
  },
  {
   "cell_type": "code",
   "execution_count": 74,
   "metadata": {},
   "outputs": [],
   "source": [
    "#calcoliamo la media pesata delle tre misure\n",
    "xa = attrito_leggera\n",
    "wa = 1/err_l**2\n",
    "xb = attrito_pesante\n",
    "wb = 1/err_p**2\n",
    "xc = attrito_pesantepesante\n",
    "wc = 1/err_pp**2"
   ]
  },
  {
   "cell_type": "code",
   "execution_count": 75,
   "metadata": {},
   "outputs": [
    {
     "data": {
      "text/plain": [
       "0.00366281881284241878"
      ]
     },
     "execution_count": 75,
     "metadata": {},
     "output_type": "execute_result"
    }
   ],
   "source": [
    "migliorstima = (wa*xa + wb*xb + wc*xc)/(wa+wb+wc)\n",
    "migliorstima"
   ]
  },
  {
   "cell_type": "code",
   "execution_count": 76,
   "metadata": {},
   "outputs": [
    {
     "data": {
      "text/plain": [
       "0.00022274649193197092"
      ]
     },
     "execution_count": 76,
     "metadata": {},
     "output_type": "execute_result"
    }
   ],
   "source": [
    "errorattr = 1/np.sqrt(wa+wb+wc)\n",
    "errorattr"
   ]
  },
  {
   "cell_type": "code",
   "execution_count": 67,
   "metadata": {},
   "outputs": [],
   "source": [
    "attrito_leggera = 0.005182\n",
    "attrito_pesante = 0.003411\n",
    "attrito_pesantepesante = 0.003974\n",
    "\n",
    "err_l = 0.001092 \n",
    "err_p = 0.000516   \n",
    "err_pp = 0.000974  \n",
    "\n",
    "attr = [attrito_leggera,attrito_pesante,attrito_pesantepesante]\n",
    "err_att_lista = [err_l,err_p, err_pp]"
   ]
  },
  {
   "cell_type": "code",
   "execution_count": 68,
   "metadata": {},
   "outputs": [
    {
     "data": {
      "image/png": "[encoded data removed]",
      "text/plain": [
       "<Figure size 576x432 with 1 Axes>"
      ]
     },
     "metadata": {
      "needs_background": "light"
     },
     "output_type": "display_data"
    }
   ],
   "source": [
    "x = np.array([1,2,3], dtype =int)\n",
    "fig = plt.figure(figsize=(8, 6))\n",
    "plt.scatter(x,attr)\n",
    "plt.xticks([1,2,3])\n",
    "\n",
    "plt.title('Discrepanza tra attrito nelle varie configurazioni')\n",
    "plt.errorbar(x,attr,yerr=err_att_lista,linestyle=\"None\")\n",
    "plt.show() "
   ]
  },
  {
   "cell_type": "code",
   "execution_count": 69,
   "metadata": {},
   "outputs": [],
   "source": [
    "#calcoliamo la media pesata delle tre misure\n",
    "xa = attrito_leggera\n",
    "wa = 1/err_l**2\n",
    "xb = attrito_pesante\n",
    "wb = 1/err_p**2\n",
    "xc = attrito_pesantepesante\n",
    "wc = 1/err_pp**2"
   ]
  },
  {
   "cell_type": "code",
   "execution_count": 70,
   "metadata": {},
   "outputs": [
    {
     "data": {
      "text/plain": [
       "0.00377899585483644149"
      ]
     },
     "execution_count": 70,
     "metadata": {},
     "output_type": "execute_result"
    }
   ],
   "source": [
    "migliorstima = (wa*xa + wb*xb + wc*xc)/(wa+wb+wc)\n",
    "migliorstima"
   ]
  },
  {
   "cell_type": "code",
   "execution_count": 71,
   "metadata": {},
   "outputs": [
    {
     "data": {
      "text/plain": [
       "0.00042075960299028714"
      ]
     },
     "execution_count": 71,
     "metadata": {},
     "output_type": "execute_result"
    }
   ],
   "source": [
    "errorattr = 1/np.sqrt(wa+wb+wc)\n",
    "errorattr"
   ]
  },
  {
   "cell_type": "code",
   "execution_count": null,
   "metadata": {},
   "outputs": [],
   "source": []
  },
  {
   "cell_type": "code",
   "execution_count": null,
   "metadata": {},
   "outputs": [],
   "source": []
  }
 ],
 "metadata": {
  "kernelspec": {
   "display_name": "Python 3",
   "language": "python",
   "name": "python3"
  },
  "language_info": {
   "codemirror_mode": {
    "name": "ipython",
    "version": 3
   },
   "file_extension": ".py",
   "mimetype": "text/x-python",
   "name": "python",
   "nbconvert_exporter": "python",
   "pygments_lexer": "ipython3",
   "version": "3.8.5"
  }
 },
 "nbformat": 4,
 "nbformat_minor": 4
}
